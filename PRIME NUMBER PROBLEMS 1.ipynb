{
 "cells": [
  {
   "cell_type": "markdown",
   "metadata": {},
   "source": [
    "# (1) For a given number, check whether the number is a prime number or not."
   ]
  },
  {
   "cell_type": "markdown",
   "metadata": {},
   "source": [
    "HINT: A number is a prime number. If that number is only divisible by 1 and the number itself.\n",
    "\n",
    "This means a prime number is not divisible by any numbers between 1 and the number itself.\n",
    "\n",
    "So, to check prime, you can start dividing the number from 2. And then increase it by 1. If the number gets divided, then it’s not a prime number."
   ]
  },
  {
   "cell_type": "code",
   "execution_count": 1,
   "metadata": {},
   "outputs": [
    {
     "name": "stdout",
     "output_type": "stream",
     "text": [
      "Enter a number: 57\n",
      "Your number is not a Prime\n"
     ]
    }
   ],
   "source": [
    "def is_prime(num):\n",
    "    for i in range(2,num):\n",
    "        if (num % i) == 0:\n",
    "            return False\n",
    "    return True\n",
    "\n",
    "\n",
    "num = int(input(\"Enter a number: \"))\n",
    "\n",
    "check_prime = is_prime(num)\n",
    "\n",
    "if check_prime:\n",
    "    print('Your number is a Prime')\n",
    "else:\n",
    "    print('Your number is not a Prime')"
   ]
  },
  {
   "cell_type": "markdown",
   "metadata": {},
   "source": [
    "# (2) Ask the user to enter a number. Then find all the primes up to that number."
   ]
  },
  {
   "cell_type": "markdown",
   "metadata": {},
   "source": [
    "HINT: You can use the previous is_prime function that you created in the previous problem. Now create a new function named all_primes. In that function, run a for loop.\n",
    "\n",
    "For each number, call the is_prime function. If the return is True to add it in the prime list."
   ]
  },
  {
   "cell_type": "code",
   "execution_count": 2,
   "metadata": {},
   "outputs": [
    {
     "name": "stdout",
     "output_type": "stream",
     "text": [
      "Enter upper limit: 20\n",
      "[2, 3, 5, 7, 11, 13, 17, 19]\n"
     ]
    }
   ],
   "source": [
    " def is_prime(num):\n",
    "        for i in range(2,num):\n",
    "            if (num % i) == 0:\n",
    "                return False\n",
    "        return True\n",
    "def all_primes(num):\n",
    "    primes = []\n",
    "    for n in range(2,num+1):\n",
    "        if is_prime(n) is True:\n",
    "            primes.append(n)\n",
    "    return primes\n",
    " \n",
    "num = int(input(\"Enter upper limit: \"))\n",
    "primes = all_primes(num)\n",
    "print(primes)"
   ]
  },
  {
   "cell_type": "markdown",
   "metadata": {},
   "source": [
    "# (3) Ask the user to enter a number. Then find all the primes factors for the number."
   ]
  },
  {
   "cell_type": "markdown",
   "metadata": {},
   "source": [
    "HINT:\n",
    "    A prime factor is a prime number that could divide a number.\n",
    "\n",
    "For example, if you think about the number 35. It has two prime factors: 5 and 7.\n",
    "\n",
    "Both 5 and 7 are prime numbers. And they can divide the number 35.\n",
    "\n",
    "Similarly, for the number 10, you will have two factors 2 and 5.\n",
    "\n",
    "To find the factor, you will run a while loop.\n",
    "\n",
    "Before the loop, add an empty list to store the prime number. And a variable named divisor whose starting value is 2.\n",
    "\n",
    "In the loop, you will start dividing with the number by the divisor. If the number gets divided, add it in the factors list.\n",
    "\n",
    "If it is not divided, increase the divisor by 1."
   ]
  },
  {
   "cell_type": "code",
   "execution_count": 9,
   "metadata": {},
   "outputs": [
    {
     "name": "stdout",
     "output_type": "stream",
     "text": [
      "Enter your number: 819\n",
      "[3, 3, 7, 13]\n"
     ]
    }
   ],
   "source": [
    "def get_prime_factors(n):\n",
    "    factors = []\n",
    "    divisor = 2\n",
    "    while n > 2:\n",
    "        if(n % divisor == 0):\n",
    "            factors.append(divisor)\n",
    "            n = n / divisor\n",
    "        else:\n",
    "            divisor = divisor + 1\n",
    "    return factors\n",
    " \n",
    "num = int (input('Enter your number: '))\n",
    "factors = get_prime_factors(num)\n",
    "print(factors)"
   ]
  },
  {
   "cell_type": "markdown",
   "metadata": {},
   "source": [
    "# (4) Find the smallest prime factor for the given number."
   ]
  },
  {
   "cell_type": "markdown",
   "metadata": {},
   "source": [
    "HINT: \n",
    "    After finishing all the prime factors, this will be a piece of cake for you.\n"
   ]
  },
  {
   "cell_type": "code",
   "execution_count": 10,
   "metadata": {},
   "outputs": [
    {
     "name": "stdout",
     "output_type": "stream",
     "text": [
      "Enter your number: 819\n",
      "The smallest prime factor is:  3\n"
     ]
    }
   ],
   "source": [
    "def get_smallest_factor(num):\n",
    "    factor = 2\n",
    "    while num % factor != 0:\n",
    "        factor += 1\n",
    "    return factor\n",
    " \n",
    "num = int(input('Enter your number: '))\n",
    " \n",
    "smallest_factor = get_smallest_factor(num)\n",
    " \n",
    "print('The smallest prime factor is: ', smallest_factor)"
   ]
  },
  {
   "cell_type": "code",
   "execution_count": null,
   "metadata": {},
   "outputs": [],
   "source": []
  }
 ],
 "metadata": {
  "kernelspec": {
   "display_name": "Python 3",
   "language": "python",
   "name": "python3"
  },
  "language_info": {
   "codemirror_mode": {
    "name": "ipython",
    "version": 3
   },
   "file_extension": ".py",
   "mimetype": "text/x-python",
   "name": "python",
   "nbconvert_exporter": "python",
   "pygments_lexer": "ipython3",
   "version": "3.7.3"
  }
 },
 "nbformat": 4,
 "nbformat_minor": 2
}
